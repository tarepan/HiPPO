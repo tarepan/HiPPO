{
  "nbformat": 4,
  "nbformat_minor": 0,
  "metadata": {
    "kernelspec": {
      "name": "python3",
      "display_name": "Python 3"
    },
    "metadata": {
      "interpreter": {
        "hash": "4cd7ab41f5fca4b9b44701077e38c5ffd31fe66a6cab21e0214b68d958d0e462"
      }
    },
    "orig_nbformat": 3,
    "colab": {
      "name": "HiPPO.ipynb",
      "private_outputs": true,
      "provenance": []
    },
    "language_info": {
      "name": "python"
    },
    "accelerator": "GPU"
  },
  "cells": [
    {
      "cell_type": "markdown",
      "metadata": {
        "id": "tdhd5TPUAST9"
      },
      "source": [
        "# HiPPO\n",
        "[![Generic badge](https://img.shields.io/badge/GitHub-VQ_CPC-9cf.svg)][github]\n",
        "[![Open In Colab](https://colab.research.google.com/assets/colab-badge.svg)][notebook]\n",
        "\n",
        "Notebook Author: [tarepan]\n",
        "\n",
        "[github]:https://github.com/tarepan/VectorQuantizedCPC\n",
        "[notebook]:https://colab.research.google.com/github/tarepan/VectorQuantizedCPC/blob/master/VQ_CPC_training.ipynb\n",
        "[tarepan]:https://github.com/tarepan"
      ]
    },
    {
      "cell_type": "markdown",
      "metadata": {
        "id": "aZfpauCQEkhx"
      },
      "source": [
        "Training of VQ-CPC with Zerospeech2019 dataset."
      ]
    },
    {
      "cell_type": "markdown",
      "metadata": {
        "id": "2hwiOClKr6Nz"
      },
      "source": [
        "## Colab Check"
      ]
    },
    {
      "cell_type": "code",
      "metadata": {
        "id": "jgsq2qEpro65"
      },
      "source": [
        "!cat /proc/uptime | awk '{print $1 /60 /60 /24 \"days (\" $1 \"sec)\"}'\n",
        "!head -n 1 /proc/driver/nvidia/gpus/**/information\n",
        "!python --version\n",
        "!pip show torch | sed '2!d'\n",
        "!/usr/local/cuda/bin/nvcc --version | sed '4!d'"
      ],
      "execution_count": null,
      "outputs": []
    },
    {
      "cell_type": "markdown",
      "metadata": {
        "id": "K125Ein7VCwM"
      },
      "source": [
        "## Setup\n",
        "<!-- Install the package from tarepan/UniversalVocoding public repository -->"
      ]
    },
    {
      "cell_type": "code",
      "metadata": {
        "id": "UZDExTGGsdtS"
      },
      "source": [
        "# GoogleDrive\n",
        "from google.colab import drive\n",
        "drive.mount('/content/gdrive')\n",
        "\n",
        "# # repository install\n",
        "# !pip uninstall vqcpc -y -q\n",
        "# !pip install git+https://github.com/tarepan/VectorQuantizedCPC -q"
      ],
      "execution_count": null,
      "outputs": []
    },
    {
      "cell_type": "code",
      "metadata": {
        "id": "DW3nHnpaBesa"
      },
      "source": [
        "# Clone the repository\n",
        "!git clone https://github.com/tarepan/HiPPO.git\n",
        "%cd HiPPO\n",
        "\n",
        "# !pip install \"torch==1.10.0\"      # Based on your PyTorch environment\n",
        "# !pip install \"torchtext==0.11.0\" # Based on your PyTorch environment\n",
        "\n",
        "# Install dependencies\n",
        "!pip install -r requirements.txt"
      ],
      "execution_count": null,
      "outputs": []
    },
    {
      "cell_type": "markdown",
      "metadata": {
        "id": "aFAWWRdFlohV"
      },
      "source": [
        "## Training"
      ]
    },
    {
      "cell_type": "markdown",
      "metadata": {
        "id": "BaRemp9hlc32"
      },
      "source": [
        "### A: pMNIST"
      ]
    },
    {
      "cell_type": "code",
      "metadata": {
        "id": "JiOoPnEiXGot"
      },
      "source": [
        "# Launch TensorBoard\n",
        "# %load_ext tensorboard\n",
        "# %tensorboard --logdir ../gdrive/MyDrive/ML_results/hippo\n",
        "\n",
        "!python train.py \\\n",
        "    runner=pl runner.ntrials=5 \\\n",
        "    dataset=mnist dataset.permute=True \\\n",
        "    model.cell=legs model.cell_args.hidden_size=512 \\\n",
        "    train.epochs=50 train.batch_size=100 train.lr=0.001 \\"
      ],
      "execution_count": null,
      "outputs": []
    }
  ]
}